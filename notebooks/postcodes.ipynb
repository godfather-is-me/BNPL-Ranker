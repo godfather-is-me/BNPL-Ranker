{
 "cells": [
  {
   "cell_type": "code",
   "execution_count": 1,
   "metadata": {},
   "outputs": [],
   "source": [
    "import re\n",
    "import pandas as pd\n",
    "import numpy as np\n",
    "\n",
    "import seaborn as sns\n",
    "import matplotlib.pyplot as plt\n",
    "\n",
    "import pyspark\n",
    "from pyspark.sql import SparkSession, DataFrame\n",
    "from pyspark.sql.functions import datediff, col, lag, avg\n",
    "from pyspark.sql.window import Window"
   ]
  },
  {
   "cell_type": "code",
   "execution_count": 2,
   "metadata": {},
   "outputs": [
    {
     "name": "stdout",
     "output_type": "stream",
     "text": [
      "22/10/02 17:32:27 WARN Utils: Your hostname, J-L resolves to a loopback address: 127.0.1.1; using 172.17.236.253 instead (on interface eth0)\n",
      "22/10/02 17:32:27 WARN Utils: Set SPARK_LOCAL_IP if you need to bind to another address\n"
     ]
    },
    {
     "name": "stderr",
     "output_type": "stream",
     "text": [
      "Setting default log level to \"WARN\".\n",
      "To adjust logging level use sc.setLogLevel(newLevel). For SparkR, use setLogLevel(newLevel).\n"
     ]
    },
    {
     "name": "stdout",
     "output_type": "stream",
     "text": [
      "22/10/02 17:32:30 WARN NativeCodeLoader: Unable to load native-hadoop library for your platform... using builtin-java classes where applicable\n"
     ]
    },
    {
     "data": {
      "text/html": [
       "\n",
       "            <div>\n",
       "                <p><b>SparkSession - in-memory</b></p>\n",
       "                \n",
       "        <div>\n",
       "            <p><b>SparkContext</b></p>\n",
       "\n",
       "            <p><a href=\"http://172.17.236.253:4040\">Spark UI</a></p>\n",
       "\n",
       "            <dl>\n",
       "              <dt>Version</dt>\n",
       "                <dd><code>v3.3.0</code></dd>\n",
       "              <dt>Master</dt>\n",
       "                <dd><code>local[*]</code></dd>\n",
       "              <dt>AppName</dt>\n",
       "                <dd><code>postcode analysis</code></dd>\n",
       "            </dl>\n",
       "        </div>\n",
       "        \n",
       "            </div>\n",
       "        "
      ],
      "text/plain": [
       "<pyspark.sql.session.SparkSession at 0x7f6f5bbfb4f0>"
      ]
     },
     "execution_count": 2,
     "metadata": {},
     "output_type": "execute_result"
    }
   ],
   "source": [
    "sp = SparkSession.builder.appName(\"postcode analysis\").config(\"spark.sql.session.timeZone\", \"+10\").getOrCreate()\n",
    "sp"
   ]
  },
  {
   "cell_type": "code",
   "execution_count": 3,
   "metadata": {},
   "outputs": [
    {
     "name": "stderr",
     "output_type": "stream",
     "text": [
      "[Stage 6:>                                                          (0 + 1) / 1]\r"
     ]
    },
    {
     "name": "stdout",
     "output_type": "stream",
     "text": [
      "+-------+------------+------------------+--------------------+--------------+\n",
      "|user_id|merchant_abn|      dollar_value|            order_id|order_datetime|\n",
      "+-------+------------+------------------+--------------------+--------------+\n",
      "|  18478| 62191208634|63.255848959735246|949a63c8-29f7-4ab...|    2021-08-20|\n",
      "|      2| 15549624934| 130.3505283105634|6a84c3cf-612a-457...|    2021-08-20|\n",
      "|  18479| 64403598239|120.15860593212783|b10dcc33-e53f-425...|    2021-08-20|\n",
      "|      3| 60956456424| 136.6785200286976|0f09c5a5-784e-447...|    2021-08-20|\n",
      "+-------+------------+------------------+--------------------+--------------+\n",
      "only showing top 4 rows\n",
      "\n"
     ]
    },
    {
     "name": "stderr",
     "output_type": "stream",
     "text": [
      "                                                                                \r"
     ]
    }
   ],
   "source": [
    "# Read all transactions together\n",
    "from functools import reduce\n",
    "\n",
    "dir = \"../data/tables/\"\n",
    "groups = [\"transactions_20210228_20210827_snapshot/\", \"transactions_20210828_20220227_snapshot/\", \"transactions_20220228_20220828_snapshot/\"]\n",
    "final_list = []\n",
    "\n",
    "for g in groups:\n",
    "    final_list.append(sp.read.parquet(dir + g))\n",
    "\n",
    "trans = reduce(DataFrame.unionAll, final_list)\n",
    "trans.show(4)"
   ]
  },
  {
   "cell_type": "code",
   "execution_count": 7,
   "metadata": {},
   "outputs": [
    {
     "name": "stderr",
     "output_type": "stream",
     "text": [
      "[Stage 10:=====================================================>  (25 + 1) / 26]\r"
     ]
    },
    {
     "name": "stdout",
     "output_type": "stream",
     "text": [
      "+------------+-----+\n",
      "|merchant_abn|count|\n",
      "+------------+-----+\n",
      "| 49891706470|    9|\n",
      "| 91772719127|    1|\n",
      "| 89726005175|   10|\n",
      "| 11173270682|    1|\n",
      "| 96152467973|    4|\n",
      "| 74391255526|    1|\n",
      "| 39112692726|    1|\n",
      "| 94072762560|    2|\n",
      "| 86578477987|    7|\n",
      "| 45244796758|    1|\n",
      "| 32709545238|    1|\n",
      "| 29521780474|    1|\n",
      "| 32361057556|    3|\n",
      "| 92990617267|    1|\n",
      "| 62204398944|    2|\n",
      "| 51808433866|    1|\n",
      "| 75944642726|    1|\n",
      "| 56144254367|    1|\n",
      "| 53965592614|    1|\n",
      "| 90918180829|    1|\n",
      "+------------+-----+\n",
      "only showing top 20 rows\n",
      "\n"
     ]
    },
    {
     "name": "stderr",
     "output_type": "stream",
     "text": [
      "                                                                                \r"
     ]
    }
   ],
   "source": [
    "trans.filter(trans.user_id == 880).groupBy(\"merchant_abn\").count().show()"
   ]
  },
  {
   "cell_type": "code",
   "execution_count": 9,
   "metadata": {},
   "outputs": [
    {
     "name": "stdout",
     "output_type": "stream",
     "text": [
      "+----------------+--------------------+-----+--------+------+-----------+\n",
      "|            name|             address|state|postcode|gender|consumer_id|\n",
      "+----------------+--------------------+-----+--------+------+-----------+\n",
      "|Yolanda Williams|413 Haney Gardens...|   WA|    6935|Female|    1195503|\n",
      "|      Mary Smith|     3764 Amber Oval|  NSW|    2782|Female|     179208|\n",
      "+----------------+--------------------+-----+--------+------+-----------+\n",
      "only showing top 2 rows\n",
      "\n"
     ]
    }
   ],
   "source": [
    "consumer_data = sp.read.option(\"header\", True).option(\"delimiter\", \"|\").csv(\"../data/tables/tbl_consumer.csv\")\n",
    "consumer_data.show(2)"
   ]
  },
  {
   "cell_type": "code",
   "execution_count": 12,
   "metadata": {},
   "outputs": [
    {
     "name": "stdout",
     "output_type": "stream",
     "text": [
      "+--------------------+--------------------+-----+--------+-----------+-----------+\n",
      "|                name|             address|state|postcode|     gender|consumer_id|\n",
      "+--------------------+--------------------+-----+--------+-----------+-----------+\n",
      "|         Molly Perez| 489 Benitez Heights|  NSW|    1819|     Female|     114419|\n",
      "|      Jessica Hansen|     8537 Jason Fork|  NSW|    1819|     Female|     824107|\n",
      "|       Larry Gilbert|7060 Gilbert Port...|  NSW|    1819|       Male|      15019|\n",
      "|      Jamie Williams|17563 Becker Shoa...|  NSW|    1819|     Female|     805309|\n",
      "|    Richard Richards|020 Jasmine Branc...|  NSW|    1819|Undisclosed|    1452640|\n",
      "|      Candice Wright|21199 Ford Flat S...|  NSW|    1819|     Female|     774094|\n",
      "|   Mackenzie Jackson|   77624 James Drive|  NSW|    1819|     Female|     716474|\n",
      "|          John Walsh|50604 Brown Brook...|  NSW|    1819|       Male|     629028|\n",
      "|Christopher Cunni...|   2870 Moyer Spring|  NSW|    1819|       Male|    1171474|\n",
      "|       Leslie Nguyen|193 Melissa Squar...|  NSW|    1819|       Male|    1459409|\n",
      "|       Monica Miller|763 Smith Plains ...|  NSW|    1819|     Female|     230780|\n",
      "|       Zachary Davis|   223 Robles Summit|  NSW|    1819|       Male|     500190|\n",
      "|       Jamie Jackson| 50891 Ashley Bridge|  NSW|    1819|     Female|     786917|\n",
      "|       Tyler Johnson| 5833 Graves Station|  NSW|    1819|Undisclosed|     346881|\n",
      "|   Michael Hernandez| 783 Prince Causeway|  NSW|    1819|       Male|     284156|\n",
      "|      Brian Peterson|072 Antonio Ways ...|  NSW|    1819|       Male|      76699|\n",
      "|        Andrea Brown|    740 Brian Island|  NSW|    1819|     Female|      57365|\n",
      "|       Matthew Simon|10482 Gonzalez Mills|  NSW|    1819|       Male|     729190|\n",
      "|     Aaron Olson DDS|     58429 Gould Key|  NSW|    1819|Undisclosed|     837302|\n",
      "|        Tiffany King|372 Christopher K...|  NSW|    1819|     Female|     442333|\n",
      "+--------------------+--------------------+-----+--------+-----------+-----------+\n",
      "only showing top 20 rows\n",
      "\n"
     ]
    }
   ],
   "source": [
    "consumer_data.filter(consumer_data.postcode == 1819).show()"
   ]
  },
  {
   "cell_type": "code",
   "execution_count": null,
   "metadata": {},
   "outputs": [],
   "source": []
  }
 ],
 "metadata": {
  "kernelspec": {
   "display_name": "Python 3.9.13 ('virtual-p2')",
   "language": "python",
   "name": "python3"
  },
  "language_info": {
   "codemirror_mode": {
    "name": "ipython",
    "version": 3
   },
   "file_extension": ".py",
   "mimetype": "text/x-python",
   "name": "python",
   "nbconvert_exporter": "python",
   "pygments_lexer": "ipython3",
   "version": "3.9.13"
  },
  "orig_nbformat": 4,
  "vscode": {
   "interpreter": {
    "hash": "fcf6849838b3a8621666e21fdc4cc1583090fffb5f1906a909fbc1c95ae1bb65"
   }
  }
 },
 "nbformat": 4,
 "nbformat_minor": 2
}
